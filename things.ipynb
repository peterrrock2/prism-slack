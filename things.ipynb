{
 "cells": [
  {
   "cell_type": "code",
   "execution_count": 1,
   "metadata": {},
   "outputs": [],
   "source": [
    "import requests"
   ]
  },
  {
   "cell_type": "code",
   "execution_count": 4,
   "metadata": {},
   "outputs": [],
   "source": [
    "def hello_goodbye(person1, person2):\n",
    "    print(f\"Hello {person1} and {person2}!\")\n",
    "    print(f\"Goodbye {person1} and {person2}!\")\n",
    "\n"
   ]
  },
  {
   "cell_type": "code",
   "execution_count": 5,
   "metadata": {},
   "outputs": [
    {
     "name": "stdout",
     "output_type": "stream",
     "text": [
      "Hello Alice and Bob!\n",
      "Goodbye Alice and Bob!\n"
     ]
    }
   ],
   "source": [
    "hello_goodbye(\"Alice\", \"Bob\")"
   ]
  },
  {
   "cell_type": "code",
   "execution_count": null,
   "metadata": {},
   "outputs": [
    {
     "name": "stdout",
     "output_type": "stream",
     "text": [
      "Hello John and Bob!\n",
      "Goodbye John and Bob!\n"
     ]
    }
   ],
   "source": [
    "from functools import partial\n",
    "\n",
    "hello = partial(hello_goodbye, person2=\"Bob\")\n",
    "\n",
    "\n",
    "\n",
    "hello(\"John\")"
   ]
  },
  {
   "cell_type": "code",
   "execution_count": 14,
   "metadata": {},
   "outputs": [
    {
     "name": "stdout",
     "output_type": "stream",
     "text": [
      "Hello Paul and bob!\n",
      "Goodbye Paul and bob!\n"
     ]
    }
   ],
   "source": [
    "def hello2(person1):\n",
    "    return hello_goodbye(person1, \"bob\")\n",
    "\n",
    "    \n",
    "hello2_electric_boogaloo = hello2(\"Paul\")"
   ]
  },
  {
   "cell_type": "code",
   "execution_count": 13,
   "metadata": {},
   "outputs": [
    {
     "name": "stdout",
     "output_type": "stream",
     "text": [
      "Hello PrismUtils and Paul!\n"
     ]
    }
   ],
   "source": [
    "hello2_electric_boogaloo(\"PrismUtils\")"
   ]
  },
  {
   "cell_type": "code",
   "execution_count": 15,
   "metadata": {},
   "outputs": [
    {
     "name": "stdout",
     "output_type": "stream",
     "text": [
      "Hello Alice and bogb!\n",
      "Goodbye Alice and bogb!\n"
     ]
    }
   ],
   "source": [
    "hello_goodbye(person2=\"bogb\", person1=\"Alice\")"
   ]
  },
  {
   "cell_type": "code",
   "execution_count": null,
   "metadata": {},
   "outputs": [],
   "source": []
  }
 ],
 "metadata": {
  "kernelspec": {
   "display_name": ".win_venv",
   "language": "python",
   "name": "python3"
  },
  "language_info": {
   "codemirror_mode": {
    "name": "ipython",
    "version": 3
   },
   "file_extension": ".py",
   "mimetype": "text/x-python",
   "name": "python",
   "nbconvert_exporter": "python",
   "pygments_lexer": "ipython3",
   "version": "3.10.11"
  }
 },
 "nbformat": 4,
 "nbformat_minor": 2
}
